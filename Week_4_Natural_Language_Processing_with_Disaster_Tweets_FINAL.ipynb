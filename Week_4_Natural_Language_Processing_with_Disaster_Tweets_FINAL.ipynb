{
  "cells": [
    {
      "cell_type": "markdown",
      "metadata": {
        "id": "rZNJN-sd8j4t"
      },
      "source": [
        "# Import Package and Data"
      ]
    },
    {
      "cell_type": "code",
      "execution_count": 1,
      "metadata": {
        "id": "ghyfZ03G3jKc"
      },
      "outputs": [],
      "source": [
        "!pip install -q kaggle"
      ]
    },
    {
      "cell_type": "code",
      "source": [
        "# I upload the GloVe to my google drive to save uoloading time\n",
        "from google.colab import drive\n",
        "drive.mount('/content/drive')"
      ],
      "metadata": {
        "colab": {
          "base_uri": "https://localhost:8080/"
        },
        "id": "alkZvJLSXLod",
        "outputId": "c815ce5a-6501-4d77-9150-dd6f27dd7fa5"
      },
      "execution_count": 2,
      "outputs": [
        {
          "output_type": "stream",
          "name": "stdout",
          "text": [
            "Mounted at /content/drive\n"
          ]
        }
      ]
    },
    {
      "cell_type": "code",
      "execution_count": 79,
      "metadata": {
        "id": "2Jg2Wln83vC6"
      },
      "outputs": [],
      "source": [
        "# fucntions related package\n",
        "import os\n",
        "import numpy as np\n",
        "import pandas as pd\n",
        "from zipfile import ZipFile\n",
        "from shutil import copyfile\n",
        "from google.colab import files\n",
        "import re\n",
        "from collections import Counter\n",
        "\n",
        "# data visulization related package\n",
        "import matplotlib.pyplot as plt\n",
        "import seaborn as sns\n",
        "from PIL import Image\n",
        "\n",
        "# deep learning related package\n",
        "import tensorflow as tf\n",
        "from tensorflow.keras import layers, models\n",
        "from tensorflow.keras.callbacks import EarlyStopping\n",
        "from sklearn.model_selection import train_test_split\n",
        "from tensorflow.keras.models import load_model\n",
        "from tensorflow.keras.preprocessing.text import Tokenizer\n",
        "from tensorflow.keras.preprocessing.sequence import pad_sequences\n",
        "from tensorflow.keras.models import Sequential\n",
        "from tensorflow.keras.layers import Bidirectional\n",
        "from tensorflow.keras.layers import Embedding\n",
        "from tensorflow.keras.layers import Dense\n",
        "from tensorflow.keras.layers import Dropout\n",
        "from tensorflow.keras.layers import GRU\n",
        "from tensorflow.keras.layers import SimpleRNN\n",
        "\n",
        "\n",
        "\n",
        "# evaluation related package\n",
        "from sklearn.metrics import classification_report, roc_auc_score, roc_curve,confusion_matrix, ConfusionMatrixDisplay, classification_report\n",
        "from sklearn.metrics import accuracy_score\n",
        "\n",
        "from sklearn.metrics import f1_score\n"
      ]
    },
    {
      "cell_type": "code",
      "execution_count": 4,
      "metadata": {
        "id": "WzAPh_zW3yQD"
      },
      "outputs": [],
      "source": [
        "!mkdir -p ~/.kaggle\n",
        "!mv kaggle.json ~/.kaggle/\n",
        "!chmod 600 ~/.kaggle/kaggle.json"
      ]
    },
    {
      "cell_type": "code",
      "execution_count": 5,
      "metadata": {
        "colab": {
          "base_uri": "https://localhost:8080/"
        },
        "id": "WfsV14B16cem",
        "outputId": "115f475e-74c5-4dfe-9863-34ae6eda956c"
      },
      "outputs": [
        {
          "output_type": "stream",
          "name": "stdout",
          "text": [
            "Downloading nlp-getting-started.zip to /content\n",
            "\r  0% 0.00/593k [00:00<?, ?B/s]\n",
            "\r100% 593k/593k [00:00<00:00, 917MB/s]\n"
          ]
        }
      ],
      "source": [
        "# load the dataset\n",
        "!kaggle competitions download -c nlp-getting-started"
      ]
    },
    {
      "cell_type": "code",
      "execution_count": 6,
      "metadata": {
        "id": "l3Ywz2_c7GqS"
      },
      "outputs": [],
      "source": [
        "# open the .zip file  by read it and push them into the data folder\n",
        "with ZipFile(\"nlp-getting-started.zip\", 'r') as zip_ref:\n",
        "    zip_ref.extract(\"train.csv\")\n",
        "    zip_ref.extract(\"test.csv\", path=\"data\")\n"
      ]
    },
    {
      "cell_type": "code",
      "source": [
        "glove_path = '/content/drive/MyDrive/CU Boulder MSCS/introduction to deep learning/week4/glove.6B.100d.txt'"
      ],
      "metadata": {
        "id": "peVBNxY0u-5k"
      },
      "execution_count": 7,
      "outputs": []
    },
    {
      "cell_type": "markdown",
      "metadata": {
        "id": "RZq-uxY-8qN1"
      },
      "source": [
        "#Brief description of the problem and data (5 pts)\n",
        "\n",
        "Briefly describe the challenge problem and NLP. Describe the size, dimension, structure, etc., of the data"
      ]
    },
    {
      "cell_type": "markdown",
      "metadata": {
        "id": "kGaQCQjsAiKe"
      },
      "source": [
        "## challenge problem"
      ]
    },
    {
      "cell_type": "markdown",
      "source": [
        "This NLP problem is focus on classifying whether a twiter text is related to diasater or not .So given a text from twitter, determine if it is disaster related."
      ],
      "metadata": {
        "id": "cfBt2_ddjH2C"
      }
    },
    {
      "cell_type": "markdown",
      "metadata": {
        "id": "VO3ETYsuAwBX"
      },
      "source": [
        "##Describe the size, dimension, structure, etc., of the data"
      ]
    },
    {
      "cell_type": "code",
      "source": [
        "df = pd.read_csv(\"train.csv\")\n",
        "# for submission only\n",
        "test_df = pd.read_csv(\"data/test.csv\")"
      ],
      "metadata": {
        "id": "68Tbf8SgkWjo"
      },
      "execution_count": 8,
      "outputs": []
    },
    {
      "cell_type": "code",
      "source": [
        "print(df.info())"
      ],
      "metadata": {
        "colab": {
          "base_uri": "https://localhost:8080/"
        },
        "id": "EWdx3yS9kAxs",
        "outputId": "9feccae1-a821-42b4-fedf-e03471fed955"
      },
      "execution_count": 9,
      "outputs": [
        {
          "output_type": "stream",
          "name": "stdout",
          "text": [
            "<class 'pandas.core.frame.DataFrame'>\n",
            "RangeIndex: 7613 entries, 0 to 7612\n",
            "Data columns (total 5 columns):\n",
            " #   Column    Non-Null Count  Dtype \n",
            "---  ------    --------------  ----- \n",
            " 0   id        7613 non-null   int64 \n",
            " 1   keyword   7552 non-null   object\n",
            " 2   location  5080 non-null   object\n",
            " 3   text      7613 non-null   object\n",
            " 4   target    7613 non-null   int64 \n",
            "dtypes: int64(2), object(3)\n",
            "memory usage: 297.5+ KB\n",
            "None\n"
          ]
        }
      ]
    },
    {
      "cell_type": "markdown",
      "source": [
        "Tjere are 7613 rows of data, there are lots of missing value in the location and the keyword columns, but since i only interested in the text column, and there is no missing value, I do not need to do any impute."
      ],
      "metadata": {
        "id": "h9RzI60klOXK"
      }
    },
    {
      "cell_type": "code",
      "source": [
        "print(df.head())"
      ],
      "metadata": {
        "colab": {
          "base_uri": "https://localhost:8080/"
        },
        "id": "s5SVED9mlATc",
        "outputId": "7654d395-dc13-4f64-e934-b287ef08df6a"
      },
      "execution_count": 10,
      "outputs": [
        {
          "output_type": "stream",
          "name": "stdout",
          "text": [
            "   id keyword location                                               text  \\\n",
            "0   1     NaN      NaN  Our Deeds are the Reason of this #earthquake M...   \n",
            "1   4     NaN      NaN             Forest fire near La Ronge Sask. Canada   \n",
            "2   5     NaN      NaN  All residents asked to 'shelter in place' are ...   \n",
            "3   6     NaN      NaN  13,000 people receive #wildfires evacuation or...   \n",
            "4   7     NaN      NaN  Just got sent this photo from Ruby #Alaska as ...   \n",
            "\n",
            "   target  \n",
            "0       1  \n",
            "1       1  \n",
            "2       1  \n",
            "3       1  \n",
            "4       1  \n"
          ]
        }
      ]
    },
    {
      "cell_type": "markdown",
      "source": [
        "The train.csv data have 5 columns , id , keyword, location,text,target\n",
        "\n",
        "In the target column, 1 indicate disaster related, 0 indicate not disaster related.\n",
        "\n",
        "For the purpose of this project, i will only use the data from text column"
      ],
      "metadata": {
        "id": "exuyX368kgU6"
      }
    },
    {
      "cell_type": "markdown",
      "metadata": {
        "id": "NjrxU_MZAoA6"
      },
      "source": [
        "## NLP\n"
      ]
    },
    {
      "cell_type": "markdown",
      "source": [
        "NLP is dthe process of  converting the natural human language into numerical indicators, so that they can be fed into machine."
      ],
      "metadata": {
        "id": "JzDMRXADllkp"
      }
    },
    {
      "cell_type": "markdown",
      "metadata": {
        "id": "lp_fvqnz8zeP"
      },
      "source": [
        "# Exploratory Data Analysis (EDA) — Inspect, Visualize and Clean the Data (15 pts)\n",
        "\n",
        "Show a few visualizations like histograms. Describe any data cleaning procedures. Based on your EDA, what is your plan of analysis?"
      ]
    },
    {
      "cell_type": "markdown",
      "source": [
        "## Visualizations"
      ],
      "metadata": {
        "id": "z8SX93iCmLGw"
      }
    },
    {
      "cell_type": "markdown",
      "source": [
        "### Histograms of Text Length"
      ],
      "metadata": {
        "id": "Hfq16iM3mXrL"
      }
    },
    {
      "cell_type": "code",
      "source": [
        "# get the length of the text\n",
        "text_length = df['text'].str.split().apply(len)\n",
        "\n",
        "# make the histgrams plot\n",
        "plt.hist(text_length)\n",
        "# add title\n",
        "plt.title(\"Text Length Distribution\")\n",
        "\n",
        "# add label for both x and y\n",
        "plt.xlabel(\"Length of text\")\n",
        "plt.ylabel(\"Counts\")\n",
        "plt.show()"
      ],
      "metadata": {
        "colab": {
          "base_uri": "https://localhost:8080/",
          "height": 472
        },
        "id": "OOI0YPWEmGYJ",
        "outputId": "3b03b143-0b60-46c8-decb-6da84e992ba9"
      },
      "execution_count": 11,
      "outputs": [
        {
          "output_type": "display_data",
          "data": {
            "text/plain": [
              "<Figure size 640x480 with 1 Axes>"
            ],
            "image/png": "[encoded data removed]"
          },
          "metadata": {}
        }
      ]
    },
    {
      "cell_type": "code",
      "source": [
        "# get all the words from the text columns\n",
        "all_words = \" \".join(df['text'].astype(str)).split()\n",
        "\n",
        "# get the top 30 words\n",
        "top_30_words = Counter(all_words).most_common(30)\n",
        "\n",
        "top_words = pd.DataFrame(top_30_words, columns=['word', 'count'])\n",
        "\n",
        "top_words.plot.bar(x='word', y='count', legend=False, figsize=(15, 5))\n",
        "plt.title(\"Most Frequent Words\")\n",
        "plt.ylabel(\"Counts\")\n",
        "plt.xticks(rotation=45)\n",
        "plt.show()"
      ],
      "metadata": {
        "colab": {
          "base_uri": "https://localhost:8080/",
          "height": 516
        },
        "id": "IfcpcYH4mk5l",
        "outputId": "7df3b313-423d-4e38-ca64-9885776f72bb"
      },
      "execution_count": 12,
      "outputs": [
        {
          "output_type": "display_data",
          "data": {
            "text/plain": [
              "<Figure size 1500x500 with 1 Axes>"
            ],
            "image/png": "[encoded data removed]"
          },
          "metadata": {}
        }
      ]
    },
    {
      "cell_type": "code",
      "source": [
        "# get the least comment words\n",
        "least_30_words = sorted(Counter(all_words).items(), key=lambda x: x[1])[:30]\n",
        "\n",
        "\n",
        "bottom_words = pd.DataFrame(least_30_words, columns=['word', 'count'])\n",
        "\n",
        "bottom_words.plot.bar(x='word', y='count', legend=False, figsize=(15, 5))\n",
        "plt.title(\"Least Frequent Words\")\n",
        "plt.ylabel(\"Counts\")\n",
        "plt.xticks(rotation=45)\n",
        "plt.show()"
      ],
      "metadata": {
        "colab": {
          "base_uri": "https://localhost:8080/",
          "height": 542
        },
        "id": "BHDGgSFX7dKC",
        "outputId": "e7d45da2-4d35-4d01-e6b6-4a13e1051421"
      },
      "execution_count": 13,
      "outputs": [
        {
          "output_type": "display_data",
          "data": {
            "text/plain": [
              "<Figure size 1500x500 with 1 Axes>"
            ],
            "image/png": "[encoded data removed]"
          },
          "metadata": {}
        }
      ]
    },
    {
      "cell_type": "code",
      "source": [
        "print(df['target'].value_counts())"
      ],
      "metadata": {
        "colab": {
          "base_uri": "https://localhost:8080/"
        },
        "id": "NPp9fWFv5CNa",
        "outputId": "7a3dfcfb-b3ef-49b9-fc91-d5e068c87047"
      },
      "execution_count": 76,
      "outputs": [
        {
          "output_type": "stream",
          "name": "stdout",
          "text": [
            "target\n",
            "0    2884\n",
            "1    2196\n",
            "Name: count, dtype: int64\n"
          ]
        }
      ]
    },
    {
      "cell_type": "code",
      "source": [
        "sns.countplot(x='target', data=df)\n",
        "plt.title(\"Label Distribution\")\n",
        "plt.ylabel(\"Count\")\n",
        "plt.show()"
      ],
      "metadata": {
        "colab": {
          "base_uri": "https://localhost:8080/",
          "height": 472
        },
        "id": "IzPRb2v8404I",
        "outputId": "e5b738ae-6621-43a8-c4b9-72943b65ba26"
      },
      "execution_count": 77,
      "outputs": [
        {
          "output_type": "display_data",
          "data": {
            "text/plain": [
              "<Figure size 640x480 with 1 Axes>"
            ],
            "image/png": "[encoded data removed]"
          },
          "metadata": {}
        }
      ]
    },
    {
      "cell_type": "markdown",
      "source": [
        "### Data Cleaning"
      ],
      "metadata": {
        "id": "GMvN2qW7my9B"
      }
    },
    {
      "cell_type": "code",
      "source": [
        "# read the data\n",
        "df = pd.read_csv(\"train.csv\")"
      ],
      "metadata": {
        "id": "zCjFhQkKmyS8"
      },
      "execution_count": 14,
      "outputs": []
    },
    {
      "cell_type": "code",
      "source": [
        "# check the info\n",
        "df.info()"
      ],
      "metadata": {
        "colab": {
          "base_uri": "https://localhost:8080/"
        },
        "id": "IADp7Asf8FiG",
        "outputId": "075ad9bf-2f9b-4f21-edf7-2550df93e4b8"
      },
      "execution_count": 15,
      "outputs": [
        {
          "output_type": "stream",
          "name": "stdout",
          "text": [
            "<class 'pandas.core.frame.DataFrame'>\n",
            "RangeIndex: 7613 entries, 0 to 7612\n",
            "Data columns (total 5 columns):\n",
            " #   Column    Non-Null Count  Dtype \n",
            "---  ------    --------------  ----- \n",
            " 0   id        7613 non-null   int64 \n",
            " 1   keyword   7552 non-null   object\n",
            " 2   location  5080 non-null   object\n",
            " 3   text      7613 non-null   object\n",
            " 4   target    7613 non-null   int64 \n",
            "dtypes: int64(2), object(3)\n",
            "memory usage: 297.5+ KB\n"
          ]
        }
      ]
    },
    {
      "cell_type": "code",
      "source": [
        "# remove the empty space(start and end )\n",
        "df = df[df['text'].str.strip() != '']"
      ],
      "metadata": {
        "id": "1ugy5Kcj8Es-"
      },
      "execution_count": 16,
      "outputs": []
    },
    {
      "cell_type": "code",
      "source": [
        "df.info()"
      ],
      "metadata": {
        "colab": {
          "base_uri": "https://localhost:8080/"
        },
        "id": "643CMVDD8JS9",
        "outputId": "27aabb07-6d19-404d-93c7-fb2976f7b3ee"
      },
      "execution_count": 17,
      "outputs": [
        {
          "output_type": "stream",
          "name": "stdout",
          "text": [
            "<class 'pandas.core.frame.DataFrame'>\n",
            "RangeIndex: 7613 entries, 0 to 7612\n",
            "Data columns (total 5 columns):\n",
            " #   Column    Non-Null Count  Dtype \n",
            "---  ------    --------------  ----- \n",
            " 0   id        7613 non-null   int64 \n",
            " 1   keyword   7552 non-null   object\n",
            " 2   location  5080 non-null   object\n",
            " 3   text      7613 non-null   object\n",
            " 4   target    7613 non-null   int64 \n",
            "dtypes: int64(2), object(3)\n",
            "memory usage: 297.5+ KB\n"
          ]
        }
      ]
    },
    {
      "cell_type": "code",
      "source": [
        "# drop the empty\n",
        "\n",
        "df = df[df['text'].str.strip() != '']\n"
      ],
      "metadata": {
        "id": "OtoSJUqZwvJO"
      },
      "execution_count": 18,
      "outputs": []
    },
    {
      "cell_type": "code",
      "source": [
        "df.info()"
      ],
      "metadata": {
        "colab": {
          "base_uri": "https://localhost:8080/"
        },
        "id": "FcvqzOnE8M6O",
        "outputId": "b84662a2-7bd6-4361-96b3-6b48996ec1ff"
      },
      "execution_count": 19,
      "outputs": [
        {
          "output_type": "stream",
          "name": "stdout",
          "text": [
            "<class 'pandas.core.frame.DataFrame'>\n",
            "RangeIndex: 7613 entries, 0 to 7612\n",
            "Data columns (total 5 columns):\n",
            " #   Column    Non-Null Count  Dtype \n",
            "---  ------    --------------  ----- \n",
            " 0   id        7613 non-null   int64 \n",
            " 1   keyword   7552 non-null   object\n",
            " 2   location  5080 non-null   object\n",
            " 3   text      7613 non-null   object\n",
            " 4   target    7613 non-null   int64 \n",
            "dtypes: int64(2), object(3)\n",
            "memory usage: 297.5+ KB\n"
          ]
        }
      ]
    },
    {
      "cell_type": "code",
      "source": [
        "df = df.dropna(subset=['location', 'keyword'])"
      ],
      "metadata": {
        "id": "nj_3bGWKAxPV"
      },
      "execution_count": 20,
      "outputs": []
    },
    {
      "cell_type": "code",
      "source": [
        "print(df.head())"
      ],
      "metadata": {
        "colab": {
          "base_uri": "https://localhost:8080/"
        },
        "id": "9xW8KQ6ym9Mx",
        "outputId": "bdadb3c2-d03b-45eb-94d6-0f623b5ed9f7"
      },
      "execution_count": 21,
      "outputs": [
        {
          "output_type": "stream",
          "name": "stdout",
          "text": [
            "    id keyword                       location  \\\n",
            "31  48  ablaze                     Birmingham   \n",
            "32  49  ablaze  Est. September 2012 - Bristol   \n",
            "33  50  ablaze                         AFRICA   \n",
            "34  52  ablaze               Philadelphia, PA   \n",
            "35  53  ablaze                     London, UK   \n",
            "\n",
            "                                                 text  target  \n",
            "31  @bbcmtd Wholesale Markets ablaze http://t.co/l...       1  \n",
            "32  We always try to bring the heavy. #metal #RT h...       0  \n",
            "33  #AFRICANBAZE: Breaking news:Nigeria flag set a...       1  \n",
            "34                 Crying out for more! Set me ablaze       0  \n",
            "35  On plus side LOOK AT THE SKY LAST NIGHT IT WAS...       0  \n"
          ]
        }
      ]
    },
    {
      "cell_type": "code",
      "source": [
        "df.info()"
      ],
      "metadata": {
        "colab": {
          "base_uri": "https://localhost:8080/"
        },
        "id": "ORvsV7_bw3lU",
        "outputId": "67283d04-bc82-48ec-d5dc-33598ddd785c"
      },
      "execution_count": 22,
      "outputs": [
        {
          "output_type": "stream",
          "name": "stdout",
          "text": [
            "<class 'pandas.core.frame.DataFrame'>\n",
            "Index: 5080 entries, 31 to 7581\n",
            "Data columns (total 5 columns):\n",
            " #   Column    Non-Null Count  Dtype \n",
            "---  ------    --------------  ----- \n",
            " 0   id        5080 non-null   int64 \n",
            " 1   keyword   5080 non-null   object\n",
            " 2   location  5080 non-null   object\n",
            " 3   text      5080 non-null   object\n",
            " 4   target    5080 non-null   int64 \n",
            "dtypes: int64(2), object(3)\n",
            "memory usage: 238.1+ KB\n"
          ]
        }
      ]
    },
    {
      "cell_type": "code",
      "source": [
        "# get the text and the values\n",
        "texts = df['text'].values\n",
        "\n",
        "labels = df['target'].values"
      ],
      "metadata": {
        "id": "pf1kEvqvh7rs"
      },
      "execution_count": 23,
      "outputs": []
    },
    {
      "cell_type": "code",
      "source": [
        "# quick check\n",
        "\n",
        "print(texts.shape)\n",
        "print(labels.shape)\n"
      ],
      "metadata": {
        "colab": {
          "base_uri": "https://localhost:8080/"
        },
        "id": "2DmfJ5bgiJME",
        "outputId": "eead418d-fefa-4ce6-c429-734480c80e75"
      },
      "execution_count": 24,
      "outputs": [
        {
          "output_type": "stream",
          "name": "stdout",
          "text": [
            "(5080,)\n",
            "(5080,)\n"
          ]
        }
      ]
    },
    {
      "cell_type": "markdown",
      "source": [
        "### plan of analysis"
      ],
      "metadata": {
        "id": "WIVLHSLQnDU9"
      }
    },
    {
      "cell_type": "markdown",
      "source": [
        "I will use GloVe to do the NLP part, and then i will fed the data into GRU and RNN models, and evaluate the result based on accuracy and F1 Score"
      ],
      "metadata": {
        "id": "qv4pyabOnFTQ"
      }
    },
    {
      "cell_type": "markdown",
      "metadata": {
        "id": "jvVjWpTY83wA"
      },
      "source": [
        "#Model Architecture (25 pts)\n",
        "\n",
        "Describe your model architecture and reasoning for why you believe that specific architecture would be suitable for this problem.\n",
        "\n",
        "Since we did not learn NLP-specific techniques such as word embeddings in the lectures, we recommend looking at Kaggle tutorials, discussion boards, and code examples posted for this challenge.  You can use any resources needed, but make sure you “demonstrate” you understood by including explanations in your own words. Also importantly, please have a reference list at the end of the report.  \n",
        "\n",
        "There are many methods to process texts to matrix form (word embedding), including TF-IDF, GloVe, Word2Vec, etc. Pick a strategy and process the raw texts to word embedding. Briefly explain the method(s) and how they work in your own words.\n",
        "\n",
        "Build and train your sequential neural network model (You may use any RNN family neural network, including advanced architectures LSTM, GRU, bidirectional RNN, etc.)."
      ]
    },
    {
      "cell_type": "markdown",
      "metadata": {
        "id": "Too6gSjzA3GS"
      },
      "source": [
        "##  DL model architecture  and Reasoning"
      ]
    },
    {
      "cell_type": "markdown",
      "source": [
        "I decide to run the GRU and RNN models in bidirectional , not the LSTM model for mainly 2 reasons.\n",
        "\n",
        "1.The maximum length of the text is like 30 words, and this is way too short for the LSTM model, using LSTM model is very likely cause overfitting.\n",
        "\n",
        "2.Efficiency, the LSTM model will run slower than the GRU and RNN models.\n"
      ],
      "metadata": {
        "id": "eO-Wq2kDnTy2"
      }
    },
    {
      "cell_type": "markdown",
      "metadata": {
        "id": "rYXQXznf_hqr"
      },
      "source": [
        "## Word embeddings"
      ]
    },
    {
      "cell_type": "markdown",
      "metadata": {
        "id": "HmO_ayoq_8RZ"
      },
      "source": [
        "### My understood of Word embeddings\n",
        "including explanations in my own words"
      ]
    },
    {
      "cell_type": "markdown",
      "source": [
        "**So basically, in oder to fed the Natural language data in DL models, the natural language must be converted to numeric data.**\n",
        "\n",
        "**word embeddings is the process to conver text into dense vectors that can captur the meaning of word.**\n",
        "\n",
        "**For example, if the dimentaion being set to 100, it means using a vector with 100 values to indicate a words **\n",
        "\n",
        "**like Disaster might be [0.18,0.12.....98 more values here..]**\n"
      ],
      "metadata": {
        "id": "pH2KAlvBo-uy"
      }
    },
    {
      "cell_type": "markdown",
      "metadata": {
        "id": "-0mZIv65_6Q5"
      },
      "source": [
        "### Briefly explain the method(s) and how they work in your own words."
      ]
    },
    {
      "cell_type": "markdown",
      "metadata": {
        "id": "6_br4PRRBj-N"
      },
      "source": [
        "I decide to chose the GloVe as the method to process texts to matrix(word embedding) for mainly 2 reasons\n",
        "\n",
        "1. it is pre-trained, so i do not need to create my own matrix, i can just download and use it.\n",
        "\n",
        "2. the maximum length  is like 30 , so GloVe is better, Word2Vec is too big and complicated for this project.\n",
        "\n",
        "\n",
        "GloVe is based on the idea that words exsist in the similar text, then they should have similar  meanings.\n",
        "\n",
        "I am using the glove.6B.100d.txt for this project,  each word in this file is represented by  a dense vector with 100 valus.\n"
      ]
    },
    {
      "cell_type": "markdown",
      "metadata": {
        "id": "iLpb1esNCO7v"
      },
      "source": [
        "### Build and train your sequential neural network model"
      ]
    },
    {
      "cell_type": "code",
      "source": [
        "# init an empty dict  # word -> vector_from_glove\n",
        "embedding_index = {}\n",
        "\n",
        "with open(glove_path) as txt_file:\n",
        "    for line in txt_file:\n",
        "        values = line.split()\n",
        "        word = values[0]\n",
        "        # 64 will be hard to train\n",
        "        vector = np.asarray(values[1:], dtype='float32')\n",
        "\n",
        "        embedding_index[word] = vector\n"
      ],
      "metadata": {
        "id": "vLMIgA9fakoZ"
      },
      "execution_count": 25,
      "outputs": []
    },
    {
      "cell_type": "code",
      "source": [
        "# quick check the length\n",
        "print(len(embedding_index))"
      ],
      "metadata": {
        "colab": {
          "base_uri": "https://localhost:8080/"
        },
        "id": "3HLruf1-iwi3",
        "outputId": "a98035cc-9ecc-4c7e-ead5-310764f16fe8"
      },
      "execution_count": 26,
      "outputs": [
        {
          "output_type": "stream",
          "name": "stdout",
          "text": [
            "400000\n"
          ]
        }
      ]
    },
    {
      "cell_type": "code",
      "source": [
        "# quick check if the dict is working\n",
        "print(embedding_index['from'])"
      ],
      "metadata": {
        "colab": {
          "base_uri": "https://localhost:8080/"
        },
        "id": "XzVBFx-6SH3F",
        "outputId": "09674ec2-9e0a-48f1-e467-cbe9bac3907e"
      },
      "execution_count": 27,
      "outputs": [
        {
          "output_type": "stream",
          "name": "stdout",
          "text": [
            "[ 3.0731e-01  2.4737e-01  6.8231e-01 -5.2367e-01  4.4053e-01  4.2044e-01\n",
            "  2.5140e-04  1.5265e-01 -6.1363e-01  2.2631e-01  8.3071e-02  7.0425e-02\n",
            "  1.7683e-02  5.6807e-01  1.0067e+00 -4.6206e-01  4.4524e-01 -5.0984e-01\n",
            " -4.2985e-01  1.9935e-01  2.2729e-01  5.1662e-01  5.6282e-01  4.1282e-01\n",
            "  1.7742e-01 -1.5694e-01 -1.1505e-01 -3.8050e-01  4.7440e-01 -1.6686e-01\n",
            "  2.3153e-01  6.3698e-02 -1.0716e-01 -2.6848e-01 -4.2665e-01  5.2237e-01\n",
            "  9.5376e-02  6.4020e-01 -5.2221e-01 -1.3856e-01 -9.8307e-01 -3.5320e-01\n",
            " -5.2161e-01  1.1277e-01  3.1634e-01  1.3297e-01 -4.9571e-02 -1.3785e-01\n",
            "  1.1317e-01 -5.0644e-01  3.8373e-01  3.6698e-01  3.9106e-01  9.8143e-01\n",
            " -5.4410e-01 -2.4640e+00 -6.8383e-01 -9.6243e-01  2.2017e+00  5.6643e-01\n",
            " -4.9410e-02  1.3093e+00 -4.0073e-01  8.3530e-01  1.7440e-01  4.4926e-02\n",
            "  5.4118e-01 -1.1038e-01  3.8200e-01  1.5369e-01 -3.7072e-01 -1.3141e-01\n",
            " -5.2504e-01 -5.6775e-01 -1.6822e-01 -9.1726e-02  8.1418e-02  4.5884e-02\n",
            " -1.4401e+00 -1.6349e-01  4.9361e-01  2.1410e-01 -7.0110e-01  2.3067e-01\n",
            " -1.1803e+00  6.5701e-02 -4.6429e-02  8.0979e-02 -1.6424e-01 -7.2896e-01\n",
            " -2.1221e-01  3.4235e-02 -4.0642e-01  2.8826e-01 -8.1331e-01 -6.7997e-02\n",
            " -2.5439e-01  1.3735e-01  1.0103e+00 -7.7614e-01]\n"
          ]
        }
      ]
    },
    {
      "cell_type": "code",
      "source": [
        "# set the max_words to be the number the rows from the glove\n",
        "max_words = 24000\n",
        "# the longest is 30 , to be safe set this to be 31, pad it until 31\n",
        "max_len = 31\n",
        "\n",
        "tokenizer = Tokenizer()\n",
        "\n",
        "tokenizer.fit_on_texts(texts)\n",
        "\n",
        "sequences_of_text = tokenizer.texts_to_sequences(texts)\n",
        "\n",
        "# pad zero\n",
        "X , y = pad_sequences(sequences_of_text, maxlen=max_len, padding='post') , labels\n",
        "\n",
        "\n",
        "X_train, X_val, y_train, y_val = train_test_split(X, y, test_size=0.2, stratify=y, random_state=2025)"
      ],
      "metadata": {
        "id": "QdspQ-OUPDhW"
      },
      "execution_count": 28,
      "outputs": []
    },
    {
      "cell_type": "code",
      "source": [
        "#quick check\n",
        "print(X_train.shape)"
      ],
      "metadata": {
        "colab": {
          "base_uri": "https://localhost:8080/"
        },
        "id": "KW1Wx2zKhv4F",
        "outputId": "5e6331fe-17bb-4dae-eaea-f12effb6e927"
      },
      "execution_count": 29,
      "outputs": [
        {
          "output_type": "stream",
          "name": "stdout",
          "text": [
            "(4064, 31)\n"
          ]
        }
      ]
    },
    {
      "cell_type": "code",
      "source": [
        "#quick check\n",
        "len(embedding_index)"
      ],
      "metadata": {
        "colab": {
          "base_uri": "https://localhost:8080/"
        },
        "id": "QlFxd9Vmlrc5",
        "outputId": "d270fef5-da6b-4d1c-d4c5-e23f1fbc1142"
      },
      "execution_count": 30,
      "outputs": [
        {
          "output_type": "execute_result",
          "data": {
            "text/plain": [
              "400000"
            ]
          },
          "metadata": {},
          "execution_count": 30
        }
      ]
    },
    {
      "cell_type": "code",
      "source": [
        "# use the glove 100d\n",
        "dimention_of_vector= 100\n",
        "\n",
        "word_index = tokenizer.word_index\n",
        "\n",
        "vocab_size = len(word_index) + 1\n",
        "\n",
        "# init the empty matrix with the size of the words * the dimention of glove 100 d\n",
        "init_weight = np.zeros((vocab_size, dimention_of_vector))\n",
        "\n",
        "# cal the avg of glove 100d to impute the empty latter\n",
        "average_vector = np.mean(np.array(list(embedding_index.values())), axis=0)\n"
      ],
      "metadata": {
        "id": "mPUZQzyqPrnm"
      },
      "execution_count": 63,
      "outputs": []
    },
    {
      "cell_type": "code",
      "source": [
        "# create the init_weight\n",
        "\n",
        "# use the value from the glove 100d to impute the value\n",
        "for word, i in word_index.items():\n",
        "    if i >= max_words:\n",
        "        continue\n",
        "    # add the word to the vector\n",
        "    vector = embedding_index.get(word)\n",
        "    if vector is not None:\n",
        "        init_weight[i] = vector\n",
        "    else:\n",
        "      # use the average vector to impute\n",
        "        init_weight[i] = average_vector\n"
      ],
      "metadata": {
        "id": "pBqOYOFqXcZQ"
      },
      "execution_count": 64,
      "outputs": []
    },
    {
      "cell_type": "code",
      "source": [
        "# quick check the reuslt\n",
        "print(init_weight.shape)"
      ],
      "metadata": {
        "colab": {
          "base_uri": "https://localhost:8080/"
        },
        "id": "K-efKHZzXKb9",
        "outputId": "f7ed9f5c-a791-4ce8-d712-05203be27ef6"
      },
      "execution_count": 65,
      "outputs": [
        {
          "output_type": "stream",
          "name": "stdout",
          "text": [
            "(17227, 100)\n"
          ]
        }
      ]
    },
    {
      "cell_type": "code",
      "source": [
        "# quick check the reuslt\n",
        "print(vocab_size)"
      ],
      "metadata": {
        "colab": {
          "base_uri": "https://localhost:8080/"
        },
        "id": "OA_WR2Q6pq-M",
        "outputId": "60240a7c-dfdd-4a1d-9f42-12338fec5f82"
      },
      "execution_count": 66,
      "outputs": [
        {
          "output_type": "stream",
          "name": "stdout",
          "text": [
            "17227\n"
          ]
        }
      ]
    },
    {
      "cell_type": "code",
      "source": [
        "# quick check the reuslt\n",
        "init_weight.shape[0]"
      ],
      "metadata": {
        "colab": {
          "base_uri": "https://localhost:8080/"
        },
        "id": "-3BWg2Tdp1Df",
        "outputId": "367d4aea-2bcb-44dc-bb44-5c7f06371bae"
      },
      "execution_count": 68,
      "outputs": [
        {
          "output_type": "execute_result",
          "data": {
            "text/plain": [
              "17227"
            ]
          },
          "metadata": {},
          "execution_count": 68
        }
      ]
    },
    {
      "cell_type": "code",
      "execution_count": 38,
      "metadata": {
        "id": "FSYN9W-4DMY7",
        "colab": {
          "base_uri": "https://localhost:8080/"
        },
        "outputId": "34dff1ae-3082-4c90-dfbe-e38f8243b58d"
      },
      "outputs": [
        {
          "output_type": "stream",
          "name": "stderr",
          "text": [
            "/usr/local/lib/python3.11/dist-packages/keras/src/layers/core/embedding.py:90: UserWarning: Argument `input_length` is deprecated. Just remove it.\n",
            "  warnings.warn(\n"
          ]
        }
      ],
      "source": [
        "\n",
        "# create the Bidirectional_GRU model\n",
        "\n",
        "Bidirectional_GRU = Sequential()\n",
        "\n",
        "Bidirectional_GRU.add(Embedding(input_dim = vocab_size, output_dim = dimention_of_vector,input_length=max_len,\n",
        "                    weights=[init_weight],\n",
        "                    trainable=True))\n",
        "\n",
        "# add random drop, otherwise will overfit!!!\n",
        "Bidirectional_GRU.add(Bidirectional(GRU(128, dropout=0.3, recurrent_dropout=0.4)))\n",
        "\n",
        "Bidirectional_GRU.add(Dense(64, activation='relu'))\n",
        "\n",
        "Bidirectional_GRU.add(Dropout(0.4))\n",
        "# 1 for disaster related  0 for not disaster related\n",
        "Bidirectional_GRU.add(Dense(1, activation='sigmoid'))\n",
        "\n",
        "Bidirectional_GRU.compile(loss='binary_crossentropy', optimizer='adam', metrics=['accuracy'])\n",
        "\n"
      ]
    },
    {
      "cell_type": "code",
      "source": [
        "# quick check the model\n",
        "Bidirectional_GRU.summary()"
      ],
      "metadata": {
        "colab": {
          "base_uri": "https://localhost:8080/",
          "height": 298
        },
        "id": "oLF55jXOYLhd",
        "outputId": "5b8df178-8d84-4145-a96c-85575ca7cda5"
      },
      "execution_count": 39,
      "outputs": [
        {
          "output_type": "display_data",
          "data": {
            "text/plain": [
              "\u001b[1mModel: \"sequential\"\u001b[0m\n"
            ],
            "text/html": [
              "<pre style=\"white-space:pre;overflow-x:auto;line-height:normal;font-family:Menlo,'DejaVu Sans Mono',consolas,'Courier New',monospace\"><span style=\"font-weight: bold\">Model: \"sequential\"</span>\n",
              "</pre>\n"
            ]
          },
          "metadata": {}
        },
        {
          "output_type": "display_data",
          "data": {
            "text/plain": [
              "┏━━━━━━━━━━━━━━━━━━━━━━━━━━━━━━━━━┳━━━━━━━━━━━━━━━━━━━━━━━━┳━━━━━━━━━━━━━━━┓\n",
              "┃\u001b[1m \u001b[0m\u001b[1mLayer (type)                   \u001b[0m\u001b[1m \u001b[0m┃\u001b[1m \u001b[0m\u001b[1mOutput Shape          \u001b[0m\u001b[1m \u001b[0m┃\u001b[1m \u001b[0m\u001b[1m      Param #\u001b[0m\u001b[1m \u001b[0m┃\n",
              "┡━━━━━━━━━━━━━━━━━━━━━━━━━━━━━━━━━╇━━━━━━━━━━━━━━━━━━━━━━━━╇━━━━━━━━━━━━━━━┩\n",
              "│ embedding (\u001b[38;5;33mEmbedding\u001b[0m)           │ ?                      │     \u001b[38;5;34m1,722,700\u001b[0m │\n",
              "├─────────────────────────────────┼────────────────────────┼───────────────┤\n",
              "│ bidirectional (\u001b[38;5;33mBidirectional\u001b[0m)   │ ?                      │   \u001b[38;5;34m0\u001b[0m (unbuilt) │\n",
              "├─────────────────────────────────┼────────────────────────┼───────────────┤\n",
              "│ dense (\u001b[38;5;33mDense\u001b[0m)                   │ ?                      │   \u001b[38;5;34m0\u001b[0m (unbuilt) │\n",
              "├─────────────────────────────────┼────────────────────────┼───────────────┤\n",
              "│ dropout (\u001b[38;5;33mDropout\u001b[0m)               │ ?                      │             \u001b[38;5;34m0\u001b[0m │\n",
              "├─────────────────────────────────┼────────────────────────┼───────────────┤\n",
              "│ dense_1 (\u001b[38;5;33mDense\u001b[0m)                 │ ?                      │   \u001b[38;5;34m0\u001b[0m (unbuilt) │\n",
              "└─────────────────────────────────┴────────────────────────┴───────────────┘\n"
            ],
            "text/html": [
              "<pre style=\"white-space:pre;overflow-x:auto;line-height:normal;font-family:Menlo,'DejaVu Sans Mono',consolas,'Courier New',monospace\">┏━━━━━━━━━━━━━━━━━━━━━━━━━━━━━━━━━┳━━━━━━━━━━━━━━━━━━━━━━━━┳━━━━━━━━━━━━━━━┓\n",
              "┃<span style=\"font-weight: bold\"> Layer (type)                    </span>┃<span style=\"font-weight: bold\"> Output Shape           </span>┃<span style=\"font-weight: bold\">       Param # </span>┃\n",
              "┡━━━━━━━━━━━━━━━━━━━━━━━━━━━━━━━━━╇━━━━━━━━━━━━━━━━━━━━━━━━╇━━━━━━━━━━━━━━━┩\n",
              "│ embedding (<span style=\"color: #0087ff; text-decoration-color: #0087ff\">Embedding</span>)           │ ?                      │     <span style=\"color: #00af00; text-decoration-color: #00af00\">1,722,700</span> │\n",
              "├─────────────────────────────────┼────────────────────────┼───────────────┤\n",
              "│ bidirectional (<span style=\"color: #0087ff; text-decoration-color: #0087ff\">Bidirectional</span>)   │ ?                      │   <span style=\"color: #00af00; text-decoration-color: #00af00\">0</span> (unbuilt) │\n",
              "├─────────────────────────────────┼────────────────────────┼───────────────┤\n",
              "│ dense (<span style=\"color: #0087ff; text-decoration-color: #0087ff\">Dense</span>)                   │ ?                      │   <span style=\"color: #00af00; text-decoration-color: #00af00\">0</span> (unbuilt) │\n",
              "├─────────────────────────────────┼────────────────────────┼───────────────┤\n",
              "│ dropout (<span style=\"color: #0087ff; text-decoration-color: #0087ff\">Dropout</span>)               │ ?                      │             <span style=\"color: #00af00; text-decoration-color: #00af00\">0</span> │\n",
              "├─────────────────────────────────┼────────────────────────┼───────────────┤\n",
              "│ dense_1 (<span style=\"color: #0087ff; text-decoration-color: #0087ff\">Dense</span>)                 │ ?                      │   <span style=\"color: #00af00; text-decoration-color: #00af00\">0</span> (unbuilt) │\n",
              "└─────────────────────────────────┴────────────────────────┴───────────────┘\n",
              "</pre>\n"
            ]
          },
          "metadata": {}
        },
        {
          "output_type": "display_data",
          "data": {
            "text/plain": [
              "\u001b[1m Total params: \u001b[0m\u001b[38;5;34m1,722,700\u001b[0m (6.57 MB)\n"
            ],
            "text/html": [
              "<pre style=\"white-space:pre;overflow-x:auto;line-height:normal;font-family:Menlo,'DejaVu Sans Mono',consolas,'Courier New',monospace\"><span style=\"font-weight: bold\"> Total params: </span><span style=\"color: #00af00; text-decoration-color: #00af00\">1,722,700</span> (6.57 MB)\n",
              "</pre>\n"
            ]
          },
          "metadata": {}
        },
        {
          "output_type": "display_data",
          "data": {
            "text/plain": [
              "\u001b[1m Trainable params: \u001b[0m\u001b[38;5;34m1,722,700\u001b[0m (6.57 MB)\n"
            ],
            "text/html": [
              "<pre style=\"white-space:pre;overflow-x:auto;line-height:normal;font-family:Menlo,'DejaVu Sans Mono',consolas,'Courier New',monospace\"><span style=\"font-weight: bold\"> Trainable params: </span><span style=\"color: #00af00; text-decoration-color: #00af00\">1,722,700</span> (6.57 MB)\n",
              "</pre>\n"
            ]
          },
          "metadata": {}
        },
        {
          "output_type": "display_data",
          "data": {
            "text/plain": [
              "\u001b[1m Non-trainable params: \u001b[0m\u001b[38;5;34m0\u001b[0m (0.00 B)\n"
            ],
            "text/html": [
              "<pre style=\"white-space:pre;overflow-x:auto;line-height:normal;font-family:Menlo,'DejaVu Sans Mono',consolas,'Courier New',monospace\"><span style=\"font-weight: bold\"> Non-trainable params: </span><span style=\"color: #00af00; text-decoration-color: #00af00\">0</span> (0.00 B)\n",
              "</pre>\n"
            ]
          },
          "metadata": {}
        }
      ]
    },
    {
      "cell_type": "code",
      "source": [
        "early_stop = EarlyStopping(monitor='val_loss', patience=10, restore_best_weights=True)\n",
        "\n",
        "Bidirectional_GRU_history = Bidirectional_GRU.fit(X_train, y_train, validation_data=(X_val, y_val),\n",
        "                    epochs=120,\n",
        "                    batch_size=500,\n",
        "                    callbacks=[early_stop])"
      ],
      "metadata": {
        "colab": {
          "base_uri": "https://localhost:8080/"
        },
        "id": "VI7HjbwDPDzU",
        "outputId": "42b98348-ddec-4e82-97ad-73fa99339527"
      },
      "execution_count": 40,
      "outputs": [
        {
          "output_type": "stream",
          "name": "stdout",
          "text": [
            "Epoch 1/120\n",
            "\u001b[1m9/9\u001b[0m \u001b[32m━━━━━━━━━━━━━━━━━━━━\u001b[0m\u001b[37m\u001b[0m \u001b[1m11s\u001b[0m 305ms/step - accuracy: 0.5606 - loss: 0.6766 - val_accuracy: 0.6998 - val_loss: 0.6185\n",
            "Epoch 2/120\n",
            "\u001b[1m9/9\u001b[0m \u001b[32m━━━━━━━━━━━━━━━━━━━━\u001b[0m\u001b[37m\u001b[0m \u001b[1m2s\u001b[0m 193ms/step - accuracy: 0.6807 - loss: 0.6154 - val_accuracy: 0.7323 - val_loss: 0.5681\n",
            "Epoch 3/120\n",
            "\u001b[1m9/9\u001b[0m \u001b[32m━━━━━━━━━━━━━━━━━━━━\u001b[0m\u001b[37m\u001b[0m \u001b[1m2s\u001b[0m 199ms/step - accuracy: 0.7204 - loss: 0.5694 - val_accuracy: 0.7549 - val_loss: 0.5371\n",
            "Epoch 4/120\n",
            "\u001b[1m9/9\u001b[0m \u001b[32m━━━━━━━━━━━━━━━━━━━━\u001b[0m\u001b[37m\u001b[0m \u001b[1m2s\u001b[0m 191ms/step - accuracy: 0.7615 - loss: 0.5276 - val_accuracy: 0.7776 - val_loss: 0.4808\n",
            "Epoch 5/120\n",
            "\u001b[1m9/9\u001b[0m \u001b[32m━━━━━━━━━━━━━━━━━━━━\u001b[0m\u001b[37m\u001b[0m \u001b[1m2s\u001b[0m 184ms/step - accuracy: 0.7852 - loss: 0.4812 - val_accuracy: 0.7953 - val_loss: 0.4634\n",
            "Epoch 6/120\n",
            "\u001b[1m9/9\u001b[0m \u001b[32m━━━━━━━━━━━━━━━━━━━━\u001b[0m\u001b[37m\u001b[0m \u001b[1m2s\u001b[0m 179ms/step - accuracy: 0.7940 - loss: 0.4634 - val_accuracy: 0.7972 - val_loss: 0.4511\n",
            "Epoch 7/120\n",
            "\u001b[1m9/9\u001b[0m \u001b[32m━━━━━━━━━━━━━━━━━━━━\u001b[0m\u001b[37m\u001b[0m \u001b[1m2s\u001b[0m 178ms/step - accuracy: 0.8151 - loss: 0.4294 - val_accuracy: 0.7982 - val_loss: 0.4424\n",
            "Epoch 8/120\n",
            "\u001b[1m9/9\u001b[0m \u001b[32m━━━━━━━━━━━━━━━━━━━━\u001b[0m\u001b[37m\u001b[0m \u001b[1m2s\u001b[0m 181ms/step - accuracy: 0.8068 - loss: 0.4206 - val_accuracy: 0.8091 - val_loss: 0.4314\n",
            "Epoch 9/120\n",
            "\u001b[1m9/9\u001b[0m \u001b[32m━━━━━━━━━━━━━━━━━━━━\u001b[0m\u001b[37m\u001b[0m \u001b[1m2s\u001b[0m 178ms/step - accuracy: 0.8331 - loss: 0.3865 - val_accuracy: 0.8081 - val_loss: 0.4337\n",
            "Epoch 10/120\n",
            "\u001b[1m9/9\u001b[0m \u001b[32m━━━━━━━━━━━━━━━━━━━━\u001b[0m\u001b[37m\u001b[0m \u001b[1m2s\u001b[0m 185ms/step - accuracy: 0.8472 - loss: 0.3545 - val_accuracy: 0.8091 - val_loss: 0.4358\n",
            "Epoch 11/120\n",
            "\u001b[1m9/9\u001b[0m \u001b[32m━━━━━━━━━━━━━━━━━━━━\u001b[0m\u001b[37m\u001b[0m \u001b[1m2s\u001b[0m 196ms/step - accuracy: 0.8557 - loss: 0.3427 - val_accuracy: 0.8120 - val_loss: 0.4299\n",
            "Epoch 12/120\n",
            "\u001b[1m9/9\u001b[0m \u001b[32m━━━━━━━━━━━━━━━━━━━━\u001b[0m\u001b[37m\u001b[0m \u001b[1m2s\u001b[0m 198ms/step - accuracy: 0.8760 - loss: 0.3103 - val_accuracy: 0.8081 - val_loss: 0.4548\n",
            "Epoch 13/120\n",
            "\u001b[1m9/9\u001b[0m \u001b[32m━━━━━━━━━━━━━━━━━━━━\u001b[0m\u001b[37m\u001b[0m \u001b[1m2s\u001b[0m 195ms/step - accuracy: 0.8872 - loss: 0.2858 - val_accuracy: 0.8189 - val_loss: 0.4471\n",
            "Epoch 14/120\n",
            "\u001b[1m9/9\u001b[0m \u001b[32m━━━━━━━━━━━━━━━━━━━━\u001b[0m\u001b[37m\u001b[0m \u001b[1m2s\u001b[0m 202ms/step - accuracy: 0.8938 - loss: 0.2792 - val_accuracy: 0.8189 - val_loss: 0.4601\n",
            "Epoch 15/120\n",
            "\u001b[1m9/9\u001b[0m \u001b[32m━━━━━━━━━━━━━━━━━━━━\u001b[0m\u001b[37m\u001b[0m \u001b[1m2s\u001b[0m 188ms/step - accuracy: 0.9084 - loss: 0.2371 - val_accuracy: 0.8199 - val_loss: 0.4899\n",
            "Epoch 16/120\n",
            "\u001b[1m9/9\u001b[0m \u001b[32m━━━━━━━━━━━━━━━━━━━━\u001b[0m\u001b[37m\u001b[0m \u001b[1m2s\u001b[0m 177ms/step - accuracy: 0.9185 - loss: 0.2145 - val_accuracy: 0.8199 - val_loss: 0.4775\n",
            "Epoch 17/120\n",
            "\u001b[1m9/9\u001b[0m \u001b[32m━━━━━━━━━━━━━━━━━━━━\u001b[0m\u001b[37m\u001b[0m \u001b[1m2s\u001b[0m 181ms/step - accuracy: 0.9355 - loss: 0.1797 - val_accuracy: 0.8199 - val_loss: 0.5010\n",
            "Epoch 18/120\n",
            "\u001b[1m9/9\u001b[0m \u001b[32m━━━━━━━━━━━━━━━━━━━━\u001b[0m\u001b[37m\u001b[0m \u001b[1m2s\u001b[0m 187ms/step - accuracy: 0.9367 - loss: 0.1591 - val_accuracy: 0.8012 - val_loss: 0.5452\n",
            "Epoch 19/120\n",
            "\u001b[1m9/9\u001b[0m \u001b[32m━━━━━━━━━━━━━━━━━━━━\u001b[0m\u001b[37m\u001b[0m \u001b[1m2s\u001b[0m 199ms/step - accuracy: 0.9463 - loss: 0.1447 - val_accuracy: 0.8110 - val_loss: 0.5303\n",
            "Epoch 20/120\n",
            "\u001b[1m9/9\u001b[0m \u001b[32m━━━━━━━━━━━━━━━━━━━━\u001b[0m\u001b[37m\u001b[0m \u001b[1m2s\u001b[0m 209ms/step - accuracy: 0.9533 - loss: 0.1226 - val_accuracy: 0.8061 - val_loss: 0.5641\n",
            "Epoch 21/120\n",
            "\u001b[1m9/9\u001b[0m \u001b[32m━━━━━━━━━━━━━━━━━━━━\u001b[0m\u001b[37m\u001b[0m \u001b[1m2s\u001b[0m 176ms/step - accuracy: 0.9636 - loss: 0.0989 - val_accuracy: 0.8091 - val_loss: 0.5991\n"
          ]
        }
      ]
    },
    {
      "cell_type": "code",
      "source": [
        "# function to get the epoch history\n",
        "def epoch_history(history):\n",
        "    plt.figure(figsize=(15,6))\n",
        "\n",
        "    plt.subplot(1, 2, 1)\n",
        "    plt.plot(history.history['loss'], label='Train Loss')\n",
        "    plt.plot(history.history['val_loss'], label='Val Loss')\n",
        "    plt.title('Loss')\n",
        "    plt.xlabel('Epoch')\n",
        "    plt.legend()\n",
        "\n",
        "\n",
        "    plt.subplot(1, 2, 2)\n",
        "    plt.plot(history.history['accuracy'], label='Train Accuracy')\n",
        "    plt.plot(history.history['val_accuracy'], label='Val Accuracy')\n",
        "    plt.title('Accuracy')\n",
        "    plt.xlabel('Epoch')\n",
        "    plt.legend()\n",
        "\n",
        "    plt.show()\n",
        "# function to get the\n",
        "def history_to_confusion_matrix(model, X_val, y_val, threshold=0.5):\n",
        "\n",
        "\n",
        "    y_pred_probs = model.predict(X_val)\n",
        "\n",
        "    y_pred = (y_pred_probs >= threshold).astype(int).flatten()\n",
        "\n",
        "\n",
        "    print(classification_report(y_val, y_pred, digits=4))\n",
        "\n",
        "\n",
        "    cm = confusion_matrix(y_val, y_pred)\n",
        "    disp = ConfusionMatrixDisplay(confusion_matrix=cm, display_labels=[0, 1])\n",
        "    disp.plot()\n",
        "    plt.title(\"Confusion Matrix\")\n",
        "    plt.xlabel(\"Predicted\")\n",
        "    plt.ylabel(\"Real\")\n",
        "    plt.show()"
      ],
      "metadata": {
        "id": "nKILMgLxccAA"
      },
      "execution_count": 98,
      "outputs": []
    },
    {
      "cell_type": "code",
      "source": [
        "# print the plots\n",
        "epoch_history(Bidirectional_GRU_history)"
      ],
      "metadata": {
        "colab": {
          "base_uri": "https://localhost:8080/",
          "height": 564
        },
        "id": "JTrOOeQ8b0_d",
        "outputId": "f53a5677-84d4-4c91-91b7-2ec5a6a2196f"
      },
      "execution_count": 42,
      "outputs": [
        {
          "output_type": "display_data",
          "data": {
            "text/plain": [
              "<Figure size 1500x600 with 2 Axes>"
            ],
            "image/png": "[encoded data removed]"
          },
          "metadata": {}
        }
      ]
    },
    {
      "cell_type": "code",
      "source": [
        "history_to_confusion_matrix(Bidirectional_GRU, X_val, y_val)"
      ],
      "metadata": {
        "colab": {
          "base_uri": "https://localhost:8080/",
          "height": 651
        },
        "id": "du_cfYAN52cP",
        "outputId": "104f6351-b1c4-489b-bd33-c4c8f184c633"
      },
      "execution_count": 105,
      "outputs": [
        {
          "output_type": "stream",
          "name": "stdout",
          "text": [
            "\u001b[1m32/32\u001b[0m \u001b[32m━━━━━━━━━━━━━━━━━━━━\u001b[0m\u001b[37m\u001b[0m \u001b[1m0s\u001b[0m 8ms/step\n",
            "              precision    recall  f1-score   support\n",
            "\n",
            "           0     0.8217    0.8544    0.8377       577\n",
            "           1     0.7981    0.7563    0.7766       439\n",
            "\n",
            "    accuracy                         0.8120      1016\n",
            "   macro avg     0.8099    0.8053    0.8072      1016\n",
            "weighted avg     0.8115    0.8120    0.8113      1016\n",
            "\n"
          ]
        },
        {
          "output_type": "display_data",
          "data": {
            "text/plain": [
              "<Figure size 640x480 with 2 Axes>"
            ],
            "image/png": "[encoded data removed]"
          },
          "metadata": {}
        }
      ]
    },
    {
      "cell_type": "markdown",
      "metadata": {
        "id": "NuvQYSIz87uN"
      },
      "source": [
        "\n",
        "#Results and Analysis (35 pts)\n",
        "\n",
        "Run hyperparameter tuning, try different architectures for comparison, apply techniques to improve training or performance, and discuss what helped.\n",
        "\n",
        "Includes results with tables and figures. There is an analysis of why or why not something worked well, troubleshooting, and a hyperparameter optimization procedure summary."
      ]
    },
    {
      "cell_type": "markdown",
      "source": [
        "## Hyperparameter tuning"
      ],
      "metadata": {
        "id": "NSWjMFeLebQS"
      }
    },
    {
      "cell_type": "code",
      "source": [
        "# set the grid for hyperparameter tuning\n",
        "dropout_list = [0.1,0.4,0.7]\n",
        "recurrent_dropout_list = [0.1,0.4,0.7]\n",
        "\n"
      ],
      "metadata": {
        "id": "klVEdjPSekfa"
      },
      "execution_count": 73,
      "outputs": []
    },
    {
      "cell_type": "code",
      "source": [
        "\n",
        "model_result = []\n",
        "\n",
        "for dropout in dropout_list:\n",
        "  for recurrent_dropout in recurrent_dropout_list:\n",
        "\n",
        "      model = Sequential()\n",
        "      model.add(Embedding(input_dim=vocab_size,output_dim=dimention_of_vector,input_length=max_len,\n",
        "                         weights=[init_weight],\n",
        "                           trainable=True))\n",
        "\n",
        "\n",
        "\n",
        "      model.add(Bidirectional(GRU(units=64,\n",
        "                                        dropout=dropout,\n",
        "                                        recurrent_dropout=recurrent_dropout)))\n",
        "      # copy and paste from previous model\n",
        "      model.add(Dense(64, activation='relu'))\n",
        "      model.add(Dropout(dropout))\n",
        "      model.add(Dense(1, activation='sigmoid'))\n",
        "      model.compile(loss='binary_crossentropy', optimizer='adam', metrics=['accuracy'])\n",
        "      # use 1000 to accelarate the process\n",
        "      model.fit(X_train, y_train, epochs=5, batch_size=1000, verbose=0)\n",
        "\n",
        "      y_val_predicted = (model.predict(X_val) > 0.5).astype(int)\n",
        "\n",
        "      f1_value = f1_score(y_val, y_val_predicted)\n",
        "      accuracy_value = accuracy_score(y_val, y_val_predicted)\n",
        "\n",
        "\n",
        "\n",
        "      model_result.append(((dropout, recurrent_dropout), f1_value,accuracy_value))\n",
        "\n"
      ],
      "metadata": {
        "colab": {
          "base_uri": "https://localhost:8080/"
        },
        "id": "HdsAyY9-gr97",
        "outputId": "e55985fd-2b0d-4c24-d835-41ee7261b699"
      },
      "execution_count": 69,
      "outputs": [
        {
          "output_type": "stream",
          "name": "stderr",
          "text": [
            "/usr/local/lib/python3.11/dist-packages/keras/src/layers/core/embedding.py:90: UserWarning: Argument `input_length` is deprecated. Just remove it.\n",
            "  warnings.warn(\n"
          ]
        },
        {
          "output_type": "stream",
          "name": "stdout",
          "text": [
            "\u001b[1m32/32\u001b[0m \u001b[32m━━━━━━━━━━━━━━━━━━━━\u001b[0m\u001b[37m\u001b[0m \u001b[1m2s\u001b[0m 38ms/step\n"
          ]
        },
        {
          "output_type": "stream",
          "name": "stderr",
          "text": [
            "/usr/local/lib/python3.11/dist-packages/keras/src/layers/core/embedding.py:90: UserWarning: Argument `input_length` is deprecated. Just remove it.\n",
            "  warnings.warn(\n"
          ]
        },
        {
          "output_type": "stream",
          "name": "stdout",
          "text": [
            "\u001b[1m32/32\u001b[0m \u001b[32m━━━━━━━━━━━━━━━━━━━━\u001b[0m\u001b[37m\u001b[0m \u001b[1m2s\u001b[0m 35ms/step\n"
          ]
        },
        {
          "output_type": "stream",
          "name": "stderr",
          "text": [
            "/usr/local/lib/python3.11/dist-packages/keras/src/layers/core/embedding.py:90: UserWarning: Argument `input_length` is deprecated. Just remove it.\n",
            "  warnings.warn(\n"
          ]
        },
        {
          "output_type": "stream",
          "name": "stdout",
          "text": [
            "\u001b[1m32/32\u001b[0m \u001b[32m━━━━━━━━━━━━━━━━━━━━\u001b[0m\u001b[37m\u001b[0m \u001b[1m2s\u001b[0m 36ms/step\n"
          ]
        },
        {
          "output_type": "stream",
          "name": "stderr",
          "text": [
            "/usr/local/lib/python3.11/dist-packages/keras/src/layers/core/embedding.py:90: UserWarning: Argument `input_length` is deprecated. Just remove it.\n",
            "  warnings.warn(\n"
          ]
        },
        {
          "output_type": "stream",
          "name": "stdout",
          "text": [
            "\u001b[1m32/32\u001b[0m \u001b[32m━━━━━━━━━━━━━━━━━━━━\u001b[0m\u001b[37m\u001b[0m \u001b[1m2s\u001b[0m 38ms/step\n"
          ]
        },
        {
          "output_type": "stream",
          "name": "stderr",
          "text": [
            "/usr/local/lib/python3.11/dist-packages/keras/src/layers/core/embedding.py:90: UserWarning: Argument `input_length` is deprecated. Just remove it.\n",
            "  warnings.warn(\n"
          ]
        },
        {
          "output_type": "stream",
          "name": "stdout",
          "text": [
            "\u001b[1m32/32\u001b[0m \u001b[32m━━━━━━━━━━━━━━━━━━━━\u001b[0m\u001b[37m\u001b[0m \u001b[1m2s\u001b[0m 35ms/step\n"
          ]
        },
        {
          "output_type": "stream",
          "name": "stderr",
          "text": [
            "/usr/local/lib/python3.11/dist-packages/keras/src/layers/core/embedding.py:90: UserWarning: Argument `input_length` is deprecated. Just remove it.\n",
            "  warnings.warn(\n"
          ]
        },
        {
          "output_type": "stream",
          "name": "stdout",
          "text": [
            "\u001b[1m32/32\u001b[0m \u001b[32m━━━━━━━━━━━━━━━━━━━━\u001b[0m\u001b[37m\u001b[0m \u001b[1m3s\u001b[0m 38ms/step\n"
          ]
        },
        {
          "output_type": "stream",
          "name": "stderr",
          "text": [
            "/usr/local/lib/python3.11/dist-packages/keras/src/layers/core/embedding.py:90: UserWarning: Argument `input_length` is deprecated. Just remove it.\n",
            "  warnings.warn(\n"
          ]
        },
        {
          "output_type": "stream",
          "name": "stdout",
          "text": [
            "\u001b[1m32/32\u001b[0m \u001b[32m━━━━━━━━━━━━━━━━━━━━\u001b[0m\u001b[37m\u001b[0m \u001b[1m2s\u001b[0m 36ms/step\n"
          ]
        },
        {
          "output_type": "stream",
          "name": "stderr",
          "text": [
            "/usr/local/lib/python3.11/dist-packages/keras/src/layers/core/embedding.py:90: UserWarning: Argument `input_length` is deprecated. Just remove it.\n",
            "  warnings.warn(\n"
          ]
        },
        {
          "output_type": "stream",
          "name": "stdout",
          "text": [
            "\u001b[1m32/32\u001b[0m \u001b[32m━━━━━━━━━━━━━━━━━━━━\u001b[0m\u001b[37m\u001b[0m \u001b[1m2s\u001b[0m 37ms/step\n"
          ]
        },
        {
          "output_type": "stream",
          "name": "stderr",
          "text": [
            "/usr/local/lib/python3.11/dist-packages/keras/src/layers/core/embedding.py:90: UserWarning: Argument `input_length` is deprecated. Just remove it.\n",
            "  warnings.warn(\n"
          ]
        },
        {
          "output_type": "stream",
          "name": "stdout",
          "text": [
            "\u001b[1m32/32\u001b[0m \u001b[32m━━━━━━━━━━━━━━━━━━━━\u001b[0m\u001b[37m\u001b[0m \u001b[1m2s\u001b[0m 38ms/step\n"
          ]
        }
      ]
    },
    {
      "cell_type": "code",
      "source": [
        "best_combination = max(model_result, key=lambda x: x[2])"
      ],
      "metadata": {
        "id": "MIX8kDtf3_bP"
      },
      "execution_count": 71,
      "outputs": []
    },
    {
      "cell_type": "code",
      "source": [
        "print(\"optimal F1\" ,best_combination[1])\n",
        "print(\"optimal Accuracy\", best_combination[2])\n",
        "print(\"dropout\",best_combination[0][0], \"recurrent_dropout\",best_combination[0][1])\n"
      ],
      "metadata": {
        "colab": {
          "base_uri": "https://localhost:8080/"
        },
        "id": "ONu4iHRl2DxO",
        "outputId": "0e78d63f-366a-4f07-8c4d-79461efc1d34"
      },
      "execution_count": 72,
      "outputs": [
        {
          "output_type": "stream",
          "name": "stdout",
          "text": [
            "optimal F1 0.6394736842105263\n",
            "optimal Accuracy 0.7303149606299213\n",
            "dropout 0.1 recurrent_dropout 0.4\n"
          ]
        }
      ]
    },
    {
      "cell_type": "markdown",
      "source": [
        "## Different Architectures"
      ],
      "metadata": {
        "id": "Ri-wX0d4ef4H"
      }
    },
    {
      "cell_type": "code",
      "source": [
        "# create the Bidirectional_RNN model\n",
        "\n",
        "Bidirectional_RNN = Sequential()\n",
        "\n",
        "Bidirectional_RNN.add(Embedding(input_dim = vocab_size, output_dim = dimention_of_vector,input_length=max_len,\n",
        "                    weights=[init_weight],\n",
        "                    trainable=True))\n",
        "\n",
        "Bidirectional_RNN.add(Bidirectional(GRU(64, dropout=0.4, recurrent_dropout=0.4)))\n",
        "\n",
        "Bidirectional_RNN.add(Dense(64, activation='relu'))\n",
        "\n",
        "Bidirectional_RNN.add(Dropout(0.4))\n",
        "\n",
        "Bidirectional_RNN.add(Dense(1, activation='sigmoid'))\n",
        "\n",
        "Bidirectional_RNN.compile(loss='binary_crossentropy', optimizer='adam', metrics=['accuracy'])\n",
        "Bidirectional_RNN.summary()"
      ],
      "metadata": {
        "colab": {
          "base_uri": "https://localhost:8080/",
          "height": 350
        },
        "id": "CXmysNYJiMoM",
        "outputId": "858cd04e-77e3-4678-adfb-da46020199ca"
      },
      "execution_count": 127,
      "outputs": [
        {
          "output_type": "stream",
          "name": "stderr",
          "text": [
            "/usr/local/lib/python3.11/dist-packages/keras/src/layers/core/embedding.py:90: UserWarning: Argument `input_length` is deprecated. Just remove it.\n",
            "  warnings.warn(\n"
          ]
        },
        {
          "output_type": "display_data",
          "data": {
            "text/plain": [
              "\u001b[1mModel: \"sequential_52\"\u001b[0m\n"
            ],
            "text/html": [
              "<pre style=\"white-space:pre;overflow-x:auto;line-height:normal;font-family:Menlo,'DejaVu Sans Mono',consolas,'Courier New',monospace\"><span style=\"font-weight: bold\">Model: \"sequential_52\"</span>\n",
              "</pre>\n"
            ]
          },
          "metadata": {}
        },
        {
          "output_type": "display_data",
          "data": {
            "text/plain": [
              "┏━━━━━━━━━━━━━━━━━━━━━━━━━━━━━━━━━┳━━━━━━━━━━━━━━━━━━━━━━━━┳━━━━━━━━━━━━━━━┓\n",
              "┃\u001b[1m \u001b[0m\u001b[1mLayer (type)                   \u001b[0m\u001b[1m \u001b[0m┃\u001b[1m \u001b[0m\u001b[1mOutput Shape          \u001b[0m\u001b[1m \u001b[0m┃\u001b[1m \u001b[0m\u001b[1m      Param #\u001b[0m\u001b[1m \u001b[0m┃\n",
              "┡━━━━━━━━━━━━━━━━━━━━━━━━━━━━━━━━━╇━━━━━━━━━━━━━━━━━━━━━━━━╇━━━━━━━━━━━━━━━┩\n",
              "│ embedding_52 (\u001b[38;5;33mEmbedding\u001b[0m)        │ ?                      │     \u001b[38;5;34m1,722,700\u001b[0m │\n",
              "├─────────────────────────────────┼────────────────────────┼───────────────┤\n",
              "│ bidirectional_51                │ ?                      │   \u001b[38;5;34m0\u001b[0m (unbuilt) │\n",
              "│ (\u001b[38;5;33mBidirectional\u001b[0m)                 │                        │               │\n",
              "├─────────────────────────────────┼────────────────────────┼───────────────┤\n",
              "│ dense_102 (\u001b[38;5;33mDense\u001b[0m)               │ ?                      │   \u001b[38;5;34m0\u001b[0m (unbuilt) │\n",
              "├─────────────────────────────────┼────────────────────────┼───────────────┤\n",
              "│ dropout_51 (\u001b[38;5;33mDropout\u001b[0m)            │ ?                      │             \u001b[38;5;34m0\u001b[0m │\n",
              "├─────────────────────────────────┼────────────────────────┼───────────────┤\n",
              "│ dense_103 (\u001b[38;5;33mDense\u001b[0m)               │ ?                      │   \u001b[38;5;34m0\u001b[0m (unbuilt) │\n",
              "└─────────────────────────────────┴────────────────────────┴───────────────┘\n"
            ],
            "text/html": [
              "<pre style=\"white-space:pre;overflow-x:auto;line-height:normal;font-family:Menlo,'DejaVu Sans Mono',consolas,'Courier New',monospace\">┏━━━━━━━━━━━━━━━━━━━━━━━━━━━━━━━━━┳━━━━━━━━━━━━━━━━━━━━━━━━┳━━━━━━━━━━━━━━━┓\n",
              "┃<span style=\"font-weight: bold\"> Layer (type)                    </span>┃<span style=\"font-weight: bold\"> Output Shape           </span>┃<span style=\"font-weight: bold\">       Param # </span>┃\n",
              "┡━━━━━━━━━━━━━━━━━━━━━━━━━━━━━━━━━╇━━━━━━━━━━━━━━━━━━━━━━━━╇━━━━━━━━━━━━━━━┩\n",
              "│ embedding_52 (<span style=\"color: #0087ff; text-decoration-color: #0087ff\">Embedding</span>)        │ ?                      │     <span style=\"color: #00af00; text-decoration-color: #00af00\">1,722,700</span> │\n",
              "├─────────────────────────────────┼────────────────────────┼───────────────┤\n",
              "│ bidirectional_51                │ ?                      │   <span style=\"color: #00af00; text-decoration-color: #00af00\">0</span> (unbuilt) │\n",
              "│ (<span style=\"color: #0087ff; text-decoration-color: #0087ff\">Bidirectional</span>)                 │                        │               │\n",
              "├─────────────────────────────────┼────────────────────────┼───────────────┤\n",
              "│ dense_102 (<span style=\"color: #0087ff; text-decoration-color: #0087ff\">Dense</span>)               │ ?                      │   <span style=\"color: #00af00; text-decoration-color: #00af00\">0</span> (unbuilt) │\n",
              "├─────────────────────────────────┼────────────────────────┼───────────────┤\n",
              "│ dropout_51 (<span style=\"color: #0087ff; text-decoration-color: #0087ff\">Dropout</span>)            │ ?                      │             <span style=\"color: #00af00; text-decoration-color: #00af00\">0</span> │\n",
              "├─────────────────────────────────┼────────────────────────┼───────────────┤\n",
              "│ dense_103 (<span style=\"color: #0087ff; text-decoration-color: #0087ff\">Dense</span>)               │ ?                      │   <span style=\"color: #00af00; text-decoration-color: #00af00\">0</span> (unbuilt) │\n",
              "└─────────────────────────────────┴────────────────────────┴───────────────┘\n",
              "</pre>\n"
            ]
          },
          "metadata": {}
        },
        {
          "output_type": "display_data",
          "data": {
            "text/plain": [
              "\u001b[1m Total params: \u001b[0m\u001b[38;5;34m1,722,700\u001b[0m (6.57 MB)\n"
            ],
            "text/html": [
              "<pre style=\"white-space:pre;overflow-x:auto;line-height:normal;font-family:Menlo,'DejaVu Sans Mono',consolas,'Courier New',monospace\"><span style=\"font-weight: bold\"> Total params: </span><span style=\"color: #00af00; text-decoration-color: #00af00\">1,722,700</span> (6.57 MB)\n",
              "</pre>\n"
            ]
          },
          "metadata": {}
        },
        {
          "output_type": "display_data",
          "data": {
            "text/plain": [
              "\u001b[1m Trainable params: \u001b[0m\u001b[38;5;34m1,722,700\u001b[0m (6.57 MB)\n"
            ],
            "text/html": [
              "<pre style=\"white-space:pre;overflow-x:auto;line-height:normal;font-family:Menlo,'DejaVu Sans Mono',consolas,'Courier New',monospace\"><span style=\"font-weight: bold\"> Trainable params: </span><span style=\"color: #00af00; text-decoration-color: #00af00\">1,722,700</span> (6.57 MB)\n",
              "</pre>\n"
            ]
          },
          "metadata": {}
        },
        {
          "output_type": "display_data",
          "data": {
            "text/plain": [
              "\u001b[1m Non-trainable params: \u001b[0m\u001b[38;5;34m0\u001b[0m (0.00 B)\n"
            ],
            "text/html": [
              "<pre style=\"white-space:pre;overflow-x:auto;line-height:normal;font-family:Menlo,'DejaVu Sans Mono',consolas,'Courier New',monospace\"><span style=\"font-weight: bold\"> Non-trainable params: </span><span style=\"color: #00af00; text-decoration-color: #00af00\">0</span> (0.00 B)\n",
              "</pre>\n"
            ]
          },
          "metadata": {}
        }
      ]
    },
    {
      "cell_type": "code",
      "source": [
        "RNN_history = model.fit(X_train, y_train,\n",
        "                    validation_data=(X_val, y_val),\n",
        "                    epochs=120,\n",
        "                    batch_size=500,\n",
        "                    callbacks=[early_stop])"
      ],
      "metadata": {
        "colab": {
          "base_uri": "https://localhost:8080/"
        },
        "id": "ySqRvLLxx95D",
        "outputId": "a781294e-f53a-4b6a-8d6e-e92e33471f06"
      },
      "execution_count": 128,
      "outputs": [
        {
          "output_type": "stream",
          "name": "stdout",
          "text": [
            "Epoch 1/120\n",
            "\u001b[1m9/9\u001b[0m \u001b[32m━━━━━━━━━━━━━━━━━━━━\u001b[0m\u001b[37m\u001b[0m \u001b[1m1s\u001b[0m 125ms/step - accuracy: 0.8755 - loss: 0.3205 - val_accuracy: 0.8159 - val_loss: 0.4623\n",
            "Epoch 2/120\n",
            "\u001b[1m9/9\u001b[0m \u001b[32m━━━━━━━━━━━━━━━━━━━━\u001b[0m\u001b[37m\u001b[0m \u001b[1m1s\u001b[0m 120ms/step - accuracy: 0.8822 - loss: 0.2883 - val_accuracy: 0.8041 - val_loss: 0.4616\n",
            "Epoch 3/120\n",
            "\u001b[1m9/9\u001b[0m \u001b[32m━━━━━━━━━━━━━━━━━━━━\u001b[0m\u001b[37m\u001b[0m \u001b[1m1s\u001b[0m 119ms/step - accuracy: 0.8780 - loss: 0.3064 - val_accuracy: 0.8100 - val_loss: 0.4678\n",
            "Epoch 4/120\n",
            "\u001b[1m9/9\u001b[0m \u001b[32m━━━━━━━━━━━━━━━━━━━━\u001b[0m\u001b[37m\u001b[0m \u001b[1m1s\u001b[0m 111ms/step - accuracy: 0.8845 - loss: 0.2964 - val_accuracy: 0.8091 - val_loss: 0.4688\n",
            "Epoch 5/120\n",
            "\u001b[1m9/9\u001b[0m \u001b[32m━━━━━━━━━━━━━━━━━━━━\u001b[0m\u001b[37m\u001b[0m \u001b[1m1s\u001b[0m 106ms/step - accuracy: 0.8954 - loss: 0.2710 - val_accuracy: 0.8110 - val_loss: 0.4736\n",
            "Epoch 6/120\n",
            "\u001b[1m9/9\u001b[0m \u001b[32m━━━━━━━━━━━━━━━━━━━━\u001b[0m\u001b[37m\u001b[0m \u001b[1m1s\u001b[0m 108ms/step - accuracy: 0.8994 - loss: 0.2605 - val_accuracy: 0.8071 - val_loss: 0.4784\n",
            "Epoch 7/120\n",
            "\u001b[1m9/9\u001b[0m \u001b[32m━━━━━━━━━━━━━━━━━━━━\u001b[0m\u001b[37m\u001b[0m \u001b[1m1s\u001b[0m 107ms/step - accuracy: 0.9051 - loss: 0.2408 - val_accuracy: 0.8081 - val_loss: 0.4847\n",
            "Epoch 8/120\n",
            "\u001b[1m9/9\u001b[0m \u001b[32m━━━━━━━━━━━━━━━━━━━━\u001b[0m\u001b[37m\u001b[0m \u001b[1m1s\u001b[0m 106ms/step - accuracy: 0.9098 - loss: 0.2431 - val_accuracy: 0.8051 - val_loss: 0.4933\n",
            "Epoch 9/120\n",
            "\u001b[1m9/9\u001b[0m \u001b[32m━━━━━━━━━━━━━━━━━━━━\u001b[0m\u001b[37m\u001b[0m \u001b[1m1s\u001b[0m 106ms/step - accuracy: 0.9063 - loss: 0.2445 - val_accuracy: 0.8110 - val_loss: 0.4919\n",
            "Epoch 10/120\n",
            "\u001b[1m9/9\u001b[0m \u001b[32m━━━━━━━━━━━━━━━━━━━━\u001b[0m\u001b[37m\u001b[0m \u001b[1m1s\u001b[0m 106ms/step - accuracy: 0.9251 - loss: 0.2218 - val_accuracy: 0.8091 - val_loss: 0.4976\n",
            "Epoch 11/120\n",
            "\u001b[1m9/9\u001b[0m \u001b[32m━━━━━━━━━━━━━━━━━━━━\u001b[0m\u001b[37m\u001b[0m \u001b[1m1s\u001b[0m 105ms/step - accuracy: 0.9194 - loss: 0.2182 - val_accuracy: 0.8100 - val_loss: 0.5007\n",
            "Epoch 12/120\n",
            "\u001b[1m9/9\u001b[0m \u001b[32m━━━━━━━━━━━━━━━━━━━━\u001b[0m\u001b[37m\u001b[0m \u001b[1m1s\u001b[0m 107ms/step - accuracy: 0.9163 - loss: 0.2158 - val_accuracy: 0.8100 - val_loss: 0.5111\n"
          ]
        }
      ]
    },
    {
      "cell_type": "code",
      "source": [
        "# print the plots\n",
        "epoch_history(RNN_history)"
      ],
      "metadata": {
        "colab": {
          "base_uri": "https://localhost:8080/",
          "height": 564
        },
        "id": "7RCFca9SpQYr",
        "outputId": "da952867-2ab8-4379-94d9-716ff85b4278"
      },
      "execution_count": 129,
      "outputs": [
        {
          "output_type": "display_data",
          "data": {
            "text/plain": [
              "<Figure size 1500x600 with 2 Axes>"
            ],
            "image/png": "[encoded data removed]"
          },
          "metadata": {}
        }
      ]
    },
    {
      "cell_type": "code",
      "source": [
        "history_to_confusion_matrix(Bidirectional_RNN, X_val, y_val)"
      ],
      "metadata": {
        "colab": {
          "base_uri": "https://localhost:8080/",
          "height": 651
        },
        "id": "x1wnQBxH6obq",
        "outputId": "332db62e-01a8-4a26-84ba-de5ad41ba6e1"
      },
      "execution_count": 130,
      "outputs": [
        {
          "output_type": "stream",
          "name": "stdout",
          "text": [
            "\u001b[1m32/32\u001b[0m \u001b[32m━━━━━━━━━━━━━━━━━━━━\u001b[0m\u001b[37m\u001b[0m \u001b[1m3s\u001b[0m 37ms/step\n",
            "              precision    recall  f1-score   support\n",
            "\n",
            "           0     0.7013    0.3865    0.4983       577\n",
            "           1     0.4928    0.7836    0.6051       439\n",
            "\n",
            "    accuracy                         0.5581      1016\n",
            "   macro avg     0.5970    0.5850    0.5517      1016\n",
            "weighted avg     0.6112    0.5581    0.5445      1016\n",
            "\n"
          ]
        },
        {
          "output_type": "display_data",
          "data": {
            "text/plain": [
              "<Figure size 640x480 with 2 Axes>"
            ],
            "image/png": "[encoded data removed]"
          },
          "metadata": {}
        }
      ]
    },
    {
      "cell_type": "markdown",
      "source": [
        "I ran a grid search and a Bidirectional_RNN model.\n",
        "\n",
        "For the grid search for the hyperparameter tuning the result shows  that when\n",
        "dropout=0.1, recurrent_dropout=0.4 (based on Accuracy value)\n",
        "\n",
        "when the dropout is too hign the model will not be able to merge, but if the value is like above 0.7, the model will have low accuracy.\n",
        "\n",
        "For the Bidirectional_RNN , it  has a very bad result ,the F1 score is so bad(around 0.5) and the training process is not stable , the loss_value will change very sharpely.\n",
        "\n"
      ],
      "metadata": {
        "id": "_1QdKzEfyabB"
      }
    },
    {
      "cell_type": "markdown",
      "metadata": {
        "id": "vP4Ii-5s9Ao3"
      },
      "source": [
        "# Conclusion (15 pts)\n"
      ]
    },
    {
      "cell_type": "markdown",
      "source": [
        "## Discuss and interpret results as well as learnings and takeaways. What did and did not help improve the performance of your models?"
      ],
      "metadata": {
        "id": "IUJMc051s0XH"
      }
    },
    {
      "cell_type": "markdown",
      "source": [
        "Bidirectional_RNN model is much faster than Bidirectional_GRU model, but it is not stable,and the result is very bad\n",
        "\n",
        "Bidirectional_GRU is much more stable than the Bidirectional_RNN, the accuracy of the validation data is not changing sharpely, and it took longger for the model to got the optimal result, while RNN merge very quick and the result is bad.\n",
        "\n",
        "Also dropout , and recurrent_dropout are very important , if the value is too small, like 0.1 or 0.2,0.3 the model might overfiiting . When dropout 0.1 recurrent_dropout 0.4, i got the best result\n",
        "\n",
        "The different nodes number in each layer does do actually make a huge different,\n",
        "from 24 to 128 , the result are almost the same"
      ],
      "metadata": {
        "id": "EU_lrYHKrxab"
      }
    },
    {
      "cell_type": "markdown",
      "source": [
        "## What improvements could you try in the future?\n",
        "\n",
        "Try running grid search for more parameters on multiple GPUs.(I am doing the search in linear , this is very slow)\n",
        "\n",
        "Try the Transformer model like BERT\n",
        "\n",
        "Try using the Self-Attention method to enhance the ability of model to focus on imporatn information."
      ],
      "metadata": {
        "id": "KPRAYDS5s3hU"
      }
    },
    {
      "cell_type": "markdown",
      "source": [],
      "metadata": {
        "id": "jMy5TS3UsxaJ"
      }
    },
    {
      "cell_type": "markdown",
      "metadata": {
        "id": "-Y193NSb-1VA"
      },
      "source": [
        "#Reference list for NLP"
      ]
    },
    {
      "cell_type": "markdown",
      "source": [
        "https://nlp.stanford.edu/projects/glove/"
      ],
      "metadata": {
        "id": "x5aWMwmwyG9C"
      }
    }
  ],
  "metadata": {
    "colab": {
      "machine_shape": "hm",
      "provenance": []
    },
    "kernelspec": {
      "display_name": "Python 3",
      "name": "python3"
    },
    "language_info": {
      "name": "python"
    }
  },
  "nbformat": 4,
  "nbformat_minor": 0
}